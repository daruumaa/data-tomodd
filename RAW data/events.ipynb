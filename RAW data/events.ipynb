{
 "cells": [
  {
   "cell_type": "code",
   "execution_count": 1,
   "metadata": {},
   "outputs": [],
   "source": [
    "import pandas as pd\n",
    "import numpy as np\n",
    "import seaborn as sns\n",
    "import matplotlib.pyplot as plt"
   ]
  },
  {
   "cell_type": "code",
   "execution_count": 3,
   "metadata": {},
   "outputs": [
    {
     "name": "stdout",
     "output_type": "stream",
     "text": [
      "Depth (m)\tVp (km/s)\n",
      "-----------------------\n",
      "-200.00\t\t4.30\n",
      "-2.00\t\t4.40\n",
      "0.00\t\t4.60\n",
      "10.00\t\t6.00\n",
      "20.00\t\t7.00\n",
      "30.00\t\t7.18\n",
      "40.00\t\t7.31\n",
      "50.00\t\t7.44\n",
      "60.00\t\t7.58\n",
      "70.00\t\t7.71\n",
      "80.00\t\t7.82\n",
      "90.00\t\t7.88\n",
      "100.00\t\t7.93\n",
      "110.00\t\t7.99\n",
      "120.00\t\t8.05\n",
      "130.00\t\t8.08\n",
      "140.00\t\t8.10\n",
      "150.00\t\t8.13\n",
      "160.00\t\t8.16\n",
      "170.00\t\t8.18\n",
      "240.00\t\t8.41\n",
      "1000.00\t\t8.66\n"
     ]
    }
   ],
   "source": [
    "import numpy as np\n",
    "\n",
    "# Define the depths and Vp values from your data\n",
    "depths = [-3, 3, 8, 16, 24, 77, 120, 165, 210, 260, 310]\n",
    "Vp = [4.30, 4.90, 5.70, 6.90, 7.10, 7.80, 8.05, 8.17, 8.30, 8.48, 8.66]\n",
    "Vs = [2.47, 2.81, 3.27, 3.96, 4.08, 4.48, 4.62, 4.69, 4.77, 4.87, 4.97]\n",
    "\n",
    "# Define the depths at which you want to interpolate\n",
    "interp_depths = [-200, -2, 0, 10, 20, 30, 40, 50, 60, 70, 80, 90, 100, 110, 120, 130, 140, 150, 160, 170, 240, 1000]\n",
    "# y = y1 + (x - x1) * ((y2 - y1) / (x2 - x1)) The equation\n",
    "\n",
    "\n",
    "# Use numpy.interp() to interpolate the Vp values at the target depths\n",
    "interp_Vp = np.interp(interp_depths, depths, Vp)\n",
    "interp_Vs = np.interp(interp_depths,depths, Vs)\n",
    "\n",
    "# Print the interpolated Vp values\n",
    "print(\"Depth (m)\\tVp (km/s)\")\n",
    "print(\"-----------------------\")\n",
    "for i in range(len(interp_depths)):\n",
    "    print(f\"{interp_depths[i]:.2f}\\t\\t{interp_Vp[i]:.2f}\")\n"
   ]
  },
  {
   "cell_type": "code",
   "execution_count": 9,
   "metadata": {},
   "outputs": [],
   "source": [
    "events_df=pd.read_csv('event.dat',sep='\\s+',header=None) #load the csv\n",
    "column_names = ['DATE', 'TIME', 'LAT', 'LON', 'DEP', 'MAG', 'EH', 'EV', 'RMS', 'ID', 'TYPE'] #create the header\n",
    "events_df.columns = column_names #update into dataframe"
   ]
  },
  {
   "cell_type": "code",
   "execution_count": 11,
   "metadata": {},
   "outputs": [],
   "source": [
    "events_df.DATE=pd.to_datetime(events_df.DATE,format='%Y%m%d') #change data type DATE into datetime\n",
    "events_df['TIME'] = events_df['TIME'].apply(lambda x: '{:02d}:{:02d}:{:02d}.{:02d}'.format(x // 1000000, (x // 10000) % 100, (x // 100) % 100, x % 100))#events_df['Date']=events_df['DateTime'].dt.date #split the date and time\n",
    "#events_df['TIME'] = pd.to_datetime(events_df['TIME'].apply(lambda x: '{:02d}:{:02d}:{:02d}.{:02d}'.format(x // 1000000, (x // 10000) % 100, (x // 100) % 100, x % 100)), format='%H:%M:%S.%f').dt.time\n",
    "#events_df['Time']=events_df['DateTime'].dt.time\n"
   ]
  },
  {
   "cell_type": "code",
   "execution_count": 12,
   "metadata": {},
   "outputs": [
    {
     "data": {
      "text/html": [
       "<div>\n",
       "<style scoped>\n",
       "    .dataframe tbody tr th:only-of-type {\n",
       "        vertical-align: middle;\n",
       "    }\n",
       "\n",
       "    .dataframe tbody tr th {\n",
       "        vertical-align: top;\n",
       "    }\n",
       "\n",
       "    .dataframe thead th {\n",
       "        text-align: right;\n",
       "    }\n",
       "</style>\n",
       "<table border=\"1\" class=\"dataframe\">\n",
       "  <thead>\n",
       "    <tr style=\"text-align: right;\">\n",
       "      <th></th>\n",
       "      <th>DATE</th>\n",
       "      <th>TIME</th>\n",
       "      <th>LAT</th>\n",
       "      <th>LON</th>\n",
       "      <th>DEP</th>\n",
       "      <th>MAG</th>\n",
       "      <th>EH</th>\n",
       "      <th>EV</th>\n",
       "      <th>RMS</th>\n",
       "      <th>ID</th>\n",
       "      <th>TYPE</th>\n",
       "    </tr>\n",
       "  </thead>\n",
       "  <tbody>\n",
       "    <tr>\n",
       "      <th>0</th>\n",
       "      <td>2012-01-01</td>\n",
       "      <td>12:24:04.70</td>\n",
       "      <td>-7.01</td>\n",
       "      <td>107.30</td>\n",
       "      <td>39.0</td>\n",
       "      <td>3.2</td>\n",
       "      <td>0.0</td>\n",
       "      <td>0.0</td>\n",
       "      <td>0.06</td>\n",
       "      <td>1</td>\n",
       "      <td>0</td>\n",
       "    </tr>\n",
       "    <tr>\n",
       "      <th>1</th>\n",
       "      <td>2012-01-01</td>\n",
       "      <td>18:01:30.40</td>\n",
       "      <td>-7.94</td>\n",
       "      <td>111.65</td>\n",
       "      <td>10.0</td>\n",
       "      <td>2.6</td>\n",
       "      <td>0.0</td>\n",
       "      <td>0.0</td>\n",
       "      <td>0.82</td>\n",
       "      <td>2</td>\n",
       "      <td>0</td>\n",
       "    </tr>\n",
       "    <tr>\n",
       "      <th>2</th>\n",
       "      <td>2012-01-02</td>\n",
       "      <td>16:55:47.80</td>\n",
       "      <td>-8.06</td>\n",
       "      <td>107.33</td>\n",
       "      <td>20.0</td>\n",
       "      <td>3.9</td>\n",
       "      <td>0.0</td>\n",
       "      <td>0.0</td>\n",
       "      <td>0.52</td>\n",
       "      <td>3</td>\n",
       "      <td>0</td>\n",
       "    </tr>\n",
       "    <tr>\n",
       "      <th>3</th>\n",
       "      <td>2012-01-02</td>\n",
       "      <td>18:39:51.90</td>\n",
       "      <td>-8.87</td>\n",
       "      <td>111.45</td>\n",
       "      <td>28.0</td>\n",
       "      <td>2.9</td>\n",
       "      <td>0.0</td>\n",
       "      <td>0.0</td>\n",
       "      <td>1.11</td>\n",
       "      <td>4</td>\n",
       "      <td>0</td>\n",
       "    </tr>\n",
       "    <tr>\n",
       "      <th>4</th>\n",
       "      <td>2012-01-03</td>\n",
       "      <td>10:07:03.20</td>\n",
       "      <td>-6.43</td>\n",
       "      <td>105.72</td>\n",
       "      <td>13.0</td>\n",
       "      <td>3.3</td>\n",
       "      <td>0.0</td>\n",
       "      <td>0.0</td>\n",
       "      <td>0.29</td>\n",
       "      <td>5</td>\n",
       "      <td>0</td>\n",
       "    </tr>\n",
       "  </tbody>\n",
       "</table>\n",
       "</div>"
      ],
      "text/plain": [
       "        DATE         TIME   LAT     LON   DEP  MAG   EH   EV   RMS  ID  TYPE\n",
       "0 2012-01-01  12:24:04.70 -7.01  107.30  39.0  3.2  0.0  0.0  0.06   1     0\n",
       "1 2012-01-01  18:01:30.40 -7.94  111.65  10.0  2.6  0.0  0.0  0.82   2     0\n",
       "2 2012-01-02  16:55:47.80 -8.06  107.33  20.0  3.9  0.0  0.0  0.52   3     0\n",
       "3 2012-01-02  18:39:51.90 -8.87  111.45  28.0  2.9  0.0  0.0  1.11   4     0\n",
       "4 2012-01-03  10:07:03.20 -6.43  105.72  13.0  3.3  0.0  0.0  0.29   5     0"
      ]
     },
     "execution_count": 12,
     "metadata": {},
     "output_type": "execute_result"
    }
   ],
   "source": [
    "events_df.head() #display the dataframe"
   ]
  },
  {
   "cell_type": "code",
   "execution_count": 184,
   "metadata": {},
   "outputs": [
    {
     "data": {
      "text/plain": [
       "DATE    datetime64[ns]\n",
       "TIME            object\n",
       "LAT            float64\n",
       "LON            float64\n",
       "DEP            float64\n",
       "MAG            float64\n",
       "EH             float64\n",
       "EV             float64\n",
       "RMS            float64\n",
       "ID               int64\n",
       "TYPE             int64\n",
       "dtype: object"
      ]
     },
     "execution_count": 184,
     "metadata": {},
     "output_type": "execute_result"
    }
   ],
   "source": [
    "events_df.dtypes"
   ]
  },
  {
   "cell_type": "code",
   "execution_count": 13,
   "metadata": {},
   "outputs": [
    {
     "data": {
      "text/plain": [
       "<AxesSubplot:title={'center':'Distribusi Magnitude\\n'}, xlabel='MAG', ylabel='Count\\n'>"
      ]
     },
     "execution_count": 13,
     "metadata": {},
     "output_type": "execute_result"
    },
    {
     "data": {
      "image/png": "[encoded data removed]",
      "text/plain": [
       "<Figure size 432x288 with 1 Axes>"
      ]
     },
     "metadata": {
      "needs_background": "light"
     },
     "output_type": "display_data"
    }
   ],
   "source": [
    "plt.title('Distribusi Magnitude\\n',fontsize=16)\n",
    "plt.ylabel('Count\\n', fontsize=12)\n",
    "sns.histplot(events_df.MAG)"
   ]
  },
  {
   "cell_type": "code",
   "execution_count": 15,
   "metadata": {},
   "outputs": [
    {
     "name": "stdout",
     "output_type": "stream",
     "text": [
      "Min Dep 10.0 \n",
      "Max Dep 643.0\n"
     ]
    }
   ],
   "source": [
    "print('Min Dep',events_df['DEP'].min(),'\\nMax Dep',events_df['DEP'].max())"
   ]
  },
  {
   "cell_type": "code",
   "execution_count": 16,
   "metadata": {},
   "outputs": [
    {
     "name": "stdout",
     "output_type": "stream",
     "text": [
      "Min Mag 1.6 \n",
      "Max Mag 6.6\n"
     ]
    }
   ],
   "source": [
    "print('Min Mag',events_df['MAG'].min(),'\\nMax Mag',events_df['MAG'].max())"
   ]
  }
 ],
 "metadata": {
  "kernelspec": {
   "display_name": "base",
   "language": "python",
   "name": "python3"
  },
  "language_info": {
   "codemirror_mode": {
    "name": "ipython",
    "version": 3
   },
   "file_extension": ".py",
   "mimetype": "text/x-python",
   "name": "python",
   "nbconvert_exporter": "python",
   "pygments_lexer": "ipython3",
   "version": "3.9.12"
  },
  "orig_nbformat": 4,
  "vscode": {
   "interpreter": {
    "hash": "ad2bdc8ecc057115af97d19610ffacc2b4e99fae6737bb82f5d7fb13d2f2c186"
   }
  }
 },
 "nbformat": 4,
 "nbformat_minor": 2
}
